{
 "cells": [
  {
   "cell_type": "code",
   "execution_count": null,
   "metadata": {},
   "outputs": [
    {
     "name": "stderr",
     "output_type": "stream",
     "text": [
      "  0%|          | 0/2 [00:00<?, ?it/s]\n",
      "  0%|          | 0/503 [00:00<?, ?it/s]\u001b[A\n",
      "  4%|▎         | 18/503 [00:00<00:02, 173.77it/s]\u001b[A\n",
      "  7%|▋         | 36/503 [00:00<00:02, 156.83it/s]\u001b[A\n",
      " 10%|█         | 52/503 [00:00<00:03, 128.21it/s]\u001b[A\n",
      " 13%|█▎        | 66/503 [00:00<00:03, 128.94it/s]\u001b[A\n",
      " 16%|█▌        | 80/503 [00:00<00:03, 118.65it/s]\u001b[A\n",
      " 19%|█▉        | 95/503 [00:00<00:03, 127.37it/s]\u001b[A\n",
      " 22%|██▏       | 111/503 [00:00<00:02, 136.48it/s]\u001b[A\n",
      " 25%|██▌       | 127/503 [00:00<00:02, 142.10it/s]\u001b[A\n",
      " 28%|██▊       | 142/503 [00:01<00:02, 143.45it/s]\u001b[A\n",
      " 31%|███▏      | 158/503 [00:01<00:02, 147.59it/s]\u001b[A\n",
      " 35%|███▍      | 174/503 [00:01<00:02, 148.26it/s]\u001b[A\n",
      " 38%|███▊      | 189/503 [00:01<00:03, 98.98it/s] \u001b[A\n",
      " 40%|████      | 202/503 [00:01<00:03, 86.83it/s]\u001b[A\n",
      " 42%|████▏     | 213/503 [00:01<00:03, 88.56it/s]\u001b[A\n",
      " 45%|████▌     | 228/503 [00:01<00:02, 96.50it/s]\u001b[A\n",
      " 48%|████▊     | 242/503 [00:02<00:02, 105.56it/s]\u001b[A"
     ]
    }
   ],
   "source": [
    "from tqdm import tqdm\n",
    "import torch\n",
    "import wandb\n",
    "import torch.nn as nn\n",
    "from torchvision import models\n",
    "from data_loading.data_loader import *\n",
    "from data_loading.transforming import *\n",
    "\n",
    "device = torch.device(\"cuda\")\n",
    "loaded_data = load_all_data()\n",
    "EPOCHS = 100\n",
    "model = models.resnet18().to(device)\n",
    "num_ftrs = model.fc.in_features\n",
    "model.fc = nn.Linear(num_ftrs, 37)\n",
    "model.to(device)\n",
    "criterion = nn.CrossEntropyLoss().to(device)\n",
    "optimizer = torch.optim.SGD(model.parameters(), lr=0.1)\n",
    "PROJECT_NAME = \"Face-Mask-Detection-PT-V2\""
   ]
  },
  {
   "cell_type": "code",
   "execution_count": null,
   "metadata": {},
   "outputs": [],
   "source": [
    "wandb.init(project=PROJECT_NAME, name=\"testing\")\n",
    "for _ in tqdm(range(EPOCHS), leave=False):\n",
    "    for data, label in tqdm(loaded_data, leave=False):\n",
    "        data = data.to(device)\n",
    "        label = label.to(device)\n",
    "        preds = model(data.float())\n",
    "        preds = preds.to(device)\n",
    "        loss = criterion(preds, label)\n",
    "        optimizer.zero_grad()\n",
    "        loss.backward()\n",
    "        optimizer.step()\n",
    "        wandb.log({\"loss\": loss.item()})"
   ]
  }
 ],
 "metadata": {
  "kernelspec": {
   "display_name": "Python 3.7.3 64-bit ('base': conda)",
   "language": "python",
   "name": "python373jvsc74a57bd0210f9608a45c0278a93c9e0b10db32a427986ab48cfc0d20c139811eb78c4bbc"
  },
  "language_info": {
   "codemirror_mode": {
    "name": "ipython",
    "version": 3
   },
   "file_extension": ".py",
   "mimetype": "text/x-python",
   "name": "python",
   "nbconvert_exporter": "python",
   "pygments_lexer": "ipython3",
   "version": "3.7.3"
  }
 },
 "nbformat": 4,
 "nbformat_minor": 2
}
